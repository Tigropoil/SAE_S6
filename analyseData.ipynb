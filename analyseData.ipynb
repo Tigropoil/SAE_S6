{
 "cells": [
  {
   "cell_type": "markdown",
   "metadata": {},
   "source": [
    "- Existe t-il une corrélation entre l’éditeur et le commentaire (score)\n",
    "- Existe-t-il une corrélation entre les auteurs et le commentaire (score).\n",
    "- Distribution des sentiments négatifs, neutres et positifs dans l'ensemble du\n",
    "corpus\n",
    "- Nombre le plus élevé de critiques négatives/positives/neutres sur les livres\n",
    "- Existe-t-il une corrélation entre le prix et la revue (le score de la revue) "
   ]
  },
  {
   "cell_type": "code",
   "execution_count": 1,
   "metadata": {},
   "outputs": [],
   "source": [
    "import pandas as pd\n",
    "import numpy as np\n",
    "import matplotlib.pyplot as plt\n",
    "import seaborn as sns"
   ]
  },
  {
   "cell_type": "markdown",
   "metadata": {},
   "source": [
    "# Existe t-il une corrélation entre l’éditeur et le commentaire (score)"
   ]
  },
  {
   "cell_type": "code",
   "execution_count": null,
   "metadata": {},
   "outputs": [],
   "source": []
  }
 ],
 "metadata": {
  "kernelspec": {
   "display_name": "Python 3",
   "language": "python",
   "name": "python3"
  },
  "language_info": {
   "codemirror_mode": {
    "name": "ipython",
    "version": 3
   },
   "file_extension": ".py",
   "mimetype": "text/x-python",
   "name": "python",
   "nbconvert_exporter": "python",
   "pygments_lexer": "ipython3",
   "version": "3.12.8"
  }
 },
 "nbformat": 4,
 "nbformat_minor": 2
}
