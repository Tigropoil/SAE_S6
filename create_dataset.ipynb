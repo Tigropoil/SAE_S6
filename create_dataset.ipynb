{
 "cells": [
  {
   "cell_type": "code",
   "execution_count": 1,
   "metadata": {},
   "outputs": [],
   "source": [
    "import pandas as pd"
   ]
  },
  {
   "cell_type": "code",
   "execution_count": 4,
   "metadata": {},
   "outputs": [],
   "source": [
    "data_rating_url = 'data/Books_rating_t.csv'\n",
    "\n",
    "data_rating = pd.read_csv(data_rating_url)"
   ]
  },
  {
   "cell_type": "code",
   "execution_count": 5,
   "metadata": {},
   "outputs": [
    {
     "name": "stdout",
     "output_type": "stream",
     "text": [
      "           Id                           Titre  Prix         User_id  \\\n",
      "0  1882931173  Its Only Art If Its Well Hung!   NaN   AVCGYZL8FQQTD   \n",
      "1  0826414346        Dr. Seuss: American Icon   NaN  A30TK6U7DNS82R   \n",
      "2  0826414346        Dr. Seuss: American Icon   NaN  A3UH4UZ4RSVO82   \n",
      "3  0826414346        Dr. Seuss: American Icon   NaN  A2MVUWT453QH61   \n",
      "4  0826414346        Dr. Seuss: American Icon   NaN  A22X4XUPKF66MR   \n",
      "\n",
      "                          Nom lecteur revue/utilité  revue/score  revue/heure  \\\n",
      "0               Jim of Oz \"jim-of-oz\"           7/7          4.0    940636800   \n",
      "1                       Kevin Killian         10/10          5.0   1095724800   \n",
      "2                        John Granger         10/11          5.0   1078790400   \n",
      "3  Roy E. Perry \"amateur philosopher\"           7/7          4.0   1090713600   \n",
      "4     D. H. Richards \"ninthwavestore\"           3/3          4.0   1107993600   \n",
      "\n",
      "                                      revue/résumé  \\\n",
      "0           Nice collection of Julie Strain images   \n",
      "1                                Really Enjoyed It   \n",
      "2  Essential for every personal and Public Library   \n",
      "3  Phlip Nel gives silly Seuss a serious treatment   \n",
      "4                           Good academic overview   \n",
      "\n",
      "                                         revue/texte  \n",
      "0  This is only for Julie Strain fans. It's a col...  \n",
      "1  I don't care much for Dr. Seuss but after read...  \n",
      "2  If people become the books they read and if \"t...  \n",
      "3  Theodore Seuss Geisel (1904-1991), aka &quot;D...  \n",
      "4  Philip Nel - Dr. Seuss: American IconThis is b...  \n",
      "Index(['Id', 'Titre', 'Prix', 'User_id', 'Nom lecteur', 'revue/utilité',\n",
      "       'revue/score', 'revue/heure', 'revue/résumé', 'revue/texte'],\n",
      "      dtype='object')\n"
     ]
    }
   ],
   "source": [
    "print(data_rating.head())\n",
    "\n",
    "print(data_rating.columns)\n",
    "\n"
   ]
  },
  {
   "cell_type": "code",
   "execution_count": 6,
   "metadata": {},
   "outputs": [
    {
     "name": "stdout",
     "output_type": "stream",
     "text": [
      "212403\n",
      "3000000\n"
     ]
    }
   ],
   "source": [
    "# afficher le nombre de valeurs unique dans la colonne 'Titre'\n",
    "print(data_rating['Titre'].nunique())\n",
    "\n",
    "# afficher le nombre de lignes\n",
    "print(data_rating.shape[0])"
   ]
  },
  {
   "cell_type": "code",
   "execution_count": 7,
   "metadata": {},
   "outputs": [],
   "source": [
    "data_book_url = 'data/books_data_t.csv'\n",
    "data_book = pd.read_csv(data_book_url)"
   ]
  },
  {
   "cell_type": "code",
   "execution_count": 8,
   "metadata": {},
   "outputs": [
    {
     "data": {
      "text/plain": [
       "Index(['Titre', 'Description', 'Auteurs', 'Image', 'Lien Google', 'Editeur',\n",
       "       'Date publication', 'infoLink', 'Genre', 'Nb scores'],\n",
       "      dtype='object')"
      ]
     },
     "execution_count": 8,
     "metadata": {},
     "output_type": "execute_result"
    }
   ],
   "source": [
    "data_book.columns"
   ]
  },
  {
   "cell_type": "code",
   "execution_count": 9,
   "metadata": {},
   "outputs": [
    {
     "name": "stdout",
     "output_type": "stream",
     "text": [
      "Nombre de titres communs : 212399\n"
     ]
    }
   ],
   "source": [
    "# Identifiez les titres communs dans les deux datasets\n",
    "titres_communs = set(data_book['Titre']).intersection(set(data_rating['Titre']))\n",
    "print(f\"Nombre de titres communs : {len(titres_communs)}\")"
   ]
  },
  {
   "cell_type": "markdown",
   "metadata": {},
   "source": [
    "Fusion"
   ]
  },
  {
   "cell_type": "code",
   "execution_count": 10,
   "metadata": {},
   "outputs": [],
   "source": [
    "# Fusion des datasets\n",
    "data_fusion = pd.merge(data_book, data_rating, on='Titre', how='inner')"
   ]
  },
  {
   "cell_type": "code",
   "execution_count": null,
   "metadata": {},
   "outputs": [
    {
     "name": "stdout",
     "output_type": "stream",
     "text": [
      "Le fichier data_fusion.csv a été créé avec succès.\n"
     ]
    }
   ],
   "source": [
    "# Sauvegarder le fichier fusionné\n",
    "data_fusion.to_csv('data/data_fusion.csv', index=False, encoding='utf-8')\n",
    "print(\"Le fichier data_fusion.csv a été créé avec succès.\")"
   ]
  },
  {
   "cell_type": "code",
   "execution_count": 11,
   "metadata": {},
   "outputs": [
    {
     "name": "stdout",
     "output_type": "stream",
     "text": [
      "                            Titre  \\\n",
      "0  Its Only Art If Its Well Hung!   \n",
      "1        Dr. Seuss: American Icon   \n",
      "2        Dr. Seuss: American Icon   \n",
      "3        Dr. Seuss: American Icon   \n",
      "4        Dr. Seuss: American Icon   \n",
      "\n",
      "                                         Description           Auteurs  \\\n",
      "0                                                NaN  ['Julie Strain']   \n",
      "1  Philip Nel takes a fascinating look into the k...    ['Philip Nel']   \n",
      "2  Philip Nel takes a fascinating look into the k...    ['Philip Nel']   \n",
      "3  Philip Nel takes a fascinating look into the k...    ['Philip Nel']   \n",
      "4  Philip Nel takes a fascinating look into the k...    ['Philip Nel']   \n",
      "\n",
      "                                               Image  \\\n",
      "0  http://books.google.com/books/content?id=DykPA...   \n",
      "1  http://books.google.com/books/content?id=IjvHQ...   \n",
      "2  http://books.google.com/books/content?id=IjvHQ...   \n",
      "3  http://books.google.com/books/content?id=IjvHQ...   \n",
      "4  http://books.google.com/books/content?id=IjvHQ...   \n",
      "\n",
      "                                         Lien Google    Editeur  \\\n",
      "0  http://books.google.nl/books?id=DykPAAAACAAJ&d...        NaN   \n",
      "1  http://books.google.nl/books?id=IjvHQsCn_pgC&p...  A&C Black   \n",
      "2  http://books.google.nl/books?id=IjvHQsCn_pgC&p...  A&C Black   \n",
      "3  http://books.google.nl/books?id=IjvHQsCn_pgC&p...  A&C Black   \n",
      "4  http://books.google.nl/books?id=IjvHQsCn_pgC&p...  A&C Black   \n",
      "\n",
      "  Date publication                                           infoLink  \\\n",
      "0             1996  http://books.google.nl/books?id=DykPAAAACAAJ&d...   \n",
      "1       01/01/2005  http://books.google.nl/books?id=IjvHQsCn_pgC&d...   \n",
      "2       01/01/2005  http://books.google.nl/books?id=IjvHQsCn_pgC&d...   \n",
      "3       01/01/2005  http://books.google.nl/books?id=IjvHQsCn_pgC&d...   \n",
      "4       01/01/2005  http://books.google.nl/books?id=IjvHQsCn_pgC&d...   \n",
      "\n",
      "                           Genre  Nb scores          Id  Prix         User_id  \\\n",
      "0    ['Comics & Graphic Novels']        NaN  1882931173   NaN   AVCGYZL8FQQTD   \n",
      "1  ['Biography & Autobiography']        NaN  0826414346   NaN  A30TK6U7DNS82R   \n",
      "2  ['Biography & Autobiography']        NaN  0826414346   NaN  A3UH4UZ4RSVO82   \n",
      "3  ['Biography & Autobiography']        NaN  0826414346   NaN  A2MVUWT453QH61   \n",
      "4  ['Biography & Autobiography']        NaN  0826414346   NaN  A22X4XUPKF66MR   \n",
      "\n",
      "                          Nom lecteur revue/utilité  revue/score  revue/heure  \\\n",
      "0               Jim of Oz \"jim-of-oz\"           7/7          4.0    940636800   \n",
      "1                       Kevin Killian         10/10          5.0   1095724800   \n",
      "2                        John Granger         10/11          5.0   1078790400   \n",
      "3  Roy E. Perry \"amateur philosopher\"           7/7          4.0   1090713600   \n",
      "4     D. H. Richards \"ninthwavestore\"           3/3          4.0   1107993600   \n",
      "\n",
      "                                      revue/résumé  \\\n",
      "0           Nice collection of Julie Strain images   \n",
      "1                                Really Enjoyed It   \n",
      "2  Essential for every personal and Public Library   \n",
      "3  Phlip Nel gives silly Seuss a serious treatment   \n",
      "4                           Good academic overview   \n",
      "\n",
      "                                         revue/texte  \n",
      "0  This is only for Julie Strain fans. It's a col...  \n",
      "1  I don't care much for Dr. Seuss but after read...  \n",
      "2  If people become the books they read and if \"t...  \n",
      "3  Theodore Seuss Geisel (1904-1991), aka &quot;D...  \n",
      "4  Philip Nel - Dr. Seuss: American IconThis is b...  \n"
     ]
    }
   ],
   "source": [
    "print(data_fusion.head())"
   ]
  },
  {
   "cell_type": "code",
   "execution_count": 12,
   "metadata": {},
   "outputs": [
    {
     "name": "stdout",
     "output_type": "stream",
     "text": [
      "Index(['Titre', 'Description', 'Auteurs', 'Image', 'Lien Google', 'Editeur',\n",
      "       'Date publication', 'infoLink', 'Genre', 'Nb scores', 'Id', 'Prix',\n",
      "       'User_id', 'Nom lecteur', 'revue/utilité', 'revue/score', 'revue/heure',\n",
      "       'revue/résumé', 'revue/texte'],\n",
      "      dtype='object')\n"
     ]
    }
   ],
   "source": [
    "print(data_fusion.columns)"
   ]
  },
  {
   "cell_type": "code",
   "execution_count": 13,
   "metadata": {},
   "outputs": [
    {
     "name": "stdout",
     "output_type": "stream",
     "text": [
      "9\n"
     ]
    }
   ],
   "source": [
    "# Afficher le nombre de rows où le titre = Dr. Seuss: American Icon\n",
    "print(data_fusion[data_fusion['Titre'] == 'Dr. Seuss: American Icon'].shape[0])"
   ]
  },
  {
   "cell_type": "code",
   "execution_count": 14,
   "metadata": {},
   "outputs": [],
   "source": [
    "# Ne garder que deux ligne pour chaque titre\n",
    "data_fusion = data_fusion.groupby('Titre').head(2)"
   ]
  },
  {
   "cell_type": "code",
   "execution_count": 22,
   "metadata": {},
   "outputs": [
    {
     "name": "stdout",
     "output_type": "stream",
     "text": [
      "2\n"
     ]
    }
   ],
   "source": [
    "print(data_fusion[data_fusion['Titre'] == 'Dr. Seuss: American Icon'].shape[0])"
   ]
  },
  {
   "cell_type": "code",
   "execution_count": null,
   "metadata": {},
   "outputs": [],
   "source": [
    "data_fusion.to_csv('data_fusion_little.csv', index=False, encoding='utf-8')"
   ]
  },
  {
   "cell_type": "code",
   "execution_count": 17,
   "metadata": {},
   "outputs": [],
   "source": [
    "# Créer une colonne sentiment\n",
    "data_fusion['Sentiment'] = ''\n",
    "\n",
    "# remplir la colonne selon le revue/score\n",
    "data_fusion.loc[data_fusion['revue/score'] > 3, 'Sentiment'] = 'Positif'\n",
    "data_fusion.loc[data_fusion['revue/score'] < 3, 'Sentiment'] = 'Negatif'\n",
    "data_fusion.loc[data_fusion['revue/score'] == 3, 'Sentiment'] = 'Neutre'"
   ]
  },
  {
   "cell_type": "code",
   "execution_count": 18,
   "metadata": {},
   "outputs": [
    {
     "data": {
      "text/html": [
       "<div>\n",
       "<style scoped>\n",
       "    .dataframe tbody tr th:only-of-type {\n",
       "        vertical-align: middle;\n",
       "    }\n",
       "\n",
       "    .dataframe tbody tr th {\n",
       "        vertical-align: top;\n",
       "    }\n",
       "\n",
       "    .dataframe thead th {\n",
       "        text-align: right;\n",
       "    }\n",
       "</style>\n",
       "<table border=\"1\" class=\"dataframe\">\n",
       "  <thead>\n",
       "    <tr style=\"text-align: right;\">\n",
       "      <th></th>\n",
       "      <th>Titre</th>\n",
       "      <th>Description</th>\n",
       "      <th>Auteurs</th>\n",
       "      <th>Image</th>\n",
       "      <th>Lien Google</th>\n",
       "      <th>Editeur</th>\n",
       "      <th>Date publication</th>\n",
       "      <th>infoLink</th>\n",
       "      <th>Genre</th>\n",
       "      <th>Nb scores</th>\n",
       "      <th>Id</th>\n",
       "      <th>Prix</th>\n",
       "      <th>User_id</th>\n",
       "      <th>Nom lecteur</th>\n",
       "      <th>revue/utilité</th>\n",
       "      <th>revue/score</th>\n",
       "      <th>revue/heure</th>\n",
       "      <th>revue/résumé</th>\n",
       "      <th>revue/texte</th>\n",
       "      <th>Sentiment</th>\n",
       "    </tr>\n",
       "  </thead>\n",
       "  <tbody>\n",
       "    <tr>\n",
       "      <th>0</th>\n",
       "      <td>Its Only Art If Its Well Hung!</td>\n",
       "      <td>NaN</td>\n",
       "      <td>['Julie Strain']</td>\n",
       "      <td>http://books.google.com/books/content?id=DykPA...</td>\n",
       "      <td>http://books.google.nl/books?id=DykPAAAACAAJ&amp;d...</td>\n",
       "      <td>NaN</td>\n",
       "      <td>1996</td>\n",
       "      <td>http://books.google.nl/books?id=DykPAAAACAAJ&amp;d...</td>\n",
       "      <td>['Comics &amp; Graphic Novels']</td>\n",
       "      <td>NaN</td>\n",
       "      <td>1882931173</td>\n",
       "      <td>NaN</td>\n",
       "      <td>AVCGYZL8FQQTD</td>\n",
       "      <td>Jim of Oz \"jim-of-oz\"</td>\n",
       "      <td>7/7</td>\n",
       "      <td>4.0</td>\n",
       "      <td>940636800</td>\n",
       "      <td>Nice collection of Julie Strain images</td>\n",
       "      <td>This is only for Julie Strain fans. It's a col...</td>\n",
       "      <td>Positif</td>\n",
       "    </tr>\n",
       "    <tr>\n",
       "      <th>1</th>\n",
       "      <td>Dr. Seuss: American Icon</td>\n",
       "      <td>Philip Nel takes a fascinating look into the k...</td>\n",
       "      <td>['Philip Nel']</td>\n",
       "      <td>http://books.google.com/books/content?id=IjvHQ...</td>\n",
       "      <td>http://books.google.nl/books?id=IjvHQsCn_pgC&amp;p...</td>\n",
       "      <td>A&amp;C Black</td>\n",
       "      <td>01/01/2005</td>\n",
       "      <td>http://books.google.nl/books?id=IjvHQsCn_pgC&amp;d...</td>\n",
       "      <td>['Biography &amp; Autobiography']</td>\n",
       "      <td>NaN</td>\n",
       "      <td>0826414346</td>\n",
       "      <td>NaN</td>\n",
       "      <td>A30TK6U7DNS82R</td>\n",
       "      <td>Kevin Killian</td>\n",
       "      <td>10/10</td>\n",
       "      <td>5.0</td>\n",
       "      <td>1095724800</td>\n",
       "      <td>Really Enjoyed It</td>\n",
       "      <td>I don't care much for Dr. Seuss but after read...</td>\n",
       "      <td>Positif</td>\n",
       "    </tr>\n",
       "    <tr>\n",
       "      <th>2</th>\n",
       "      <td>Dr. Seuss: American Icon</td>\n",
       "      <td>Philip Nel takes a fascinating look into the k...</td>\n",
       "      <td>['Philip Nel']</td>\n",
       "      <td>http://books.google.com/books/content?id=IjvHQ...</td>\n",
       "      <td>http://books.google.nl/books?id=IjvHQsCn_pgC&amp;p...</td>\n",
       "      <td>A&amp;C Black</td>\n",
       "      <td>01/01/2005</td>\n",
       "      <td>http://books.google.nl/books?id=IjvHQsCn_pgC&amp;d...</td>\n",
       "      <td>['Biography &amp; Autobiography']</td>\n",
       "      <td>NaN</td>\n",
       "      <td>0826414346</td>\n",
       "      <td>NaN</td>\n",
       "      <td>A3UH4UZ4RSVO82</td>\n",
       "      <td>John Granger</td>\n",
       "      <td>10/11</td>\n",
       "      <td>5.0</td>\n",
       "      <td>1078790400</td>\n",
       "      <td>Essential for every personal and Public Library</td>\n",
       "      <td>If people become the books they read and if \"t...</td>\n",
       "      <td>Positif</td>\n",
       "    </tr>\n",
       "    <tr>\n",
       "      <th>10</th>\n",
       "      <td>Wonderful Worship in Smaller Churches</td>\n",
       "      <td>This resource includes twelve principles in un...</td>\n",
       "      <td>['David R. Ray']</td>\n",
       "      <td>http://books.google.com/books/content?id=2tsDA...</td>\n",
       "      <td>http://books.google.nl/books?id=2tsDAAAACAAJ&amp;d...</td>\n",
       "      <td>NaN</td>\n",
       "      <td>2000</td>\n",
       "      <td>http://books.google.nl/books?id=2tsDAAAACAAJ&amp;d...</td>\n",
       "      <td>['Religion']</td>\n",
       "      <td>NaN</td>\n",
       "      <td>0829814000</td>\n",
       "      <td>19.4</td>\n",
       "      <td>AZ0IOBU20TBOP</td>\n",
       "      <td>Rev. Pamela Tinnin</td>\n",
       "      <td>8/10</td>\n",
       "      <td>5.0</td>\n",
       "      <td>991440000</td>\n",
       "      <td>Outstanding Resource for Small Church Pastors</td>\n",
       "      <td>I just finished the book, &amp;quot;Wonderful Wors...</td>\n",
       "      <td>Positif</td>\n",
       "    </tr>\n",
       "    <tr>\n",
       "      <th>11</th>\n",
       "      <td>Wonderful Worship in Smaller Churches</td>\n",
       "      <td>This resource includes twelve principles in un...</td>\n",
       "      <td>['David R. Ray']</td>\n",
       "      <td>http://books.google.com/books/content?id=2tsDA...</td>\n",
       "      <td>http://books.google.nl/books?id=2tsDAAAACAAJ&amp;d...</td>\n",
       "      <td>NaN</td>\n",
       "      <td>2000</td>\n",
       "      <td>http://books.google.nl/books?id=2tsDAAAACAAJ&amp;d...</td>\n",
       "      <td>['Religion']</td>\n",
       "      <td>NaN</td>\n",
       "      <td>0829814000</td>\n",
       "      <td>19.4</td>\n",
       "      <td>A373VVEU6Z9M0N</td>\n",
       "      <td>Dr. Terry W. Dorsett</td>\n",
       "      <td>1/1</td>\n",
       "      <td>5.0</td>\n",
       "      <td>1291766400</td>\n",
       "      <td>Small Churches CAN Have Wonderful Worship</td>\n",
       "      <td>Many small churches feel like they can not hav...</td>\n",
       "      <td>Positif</td>\n",
       "    </tr>\n",
       "  </tbody>\n",
       "</table>\n",
       "</div>"
      ],
      "text/plain": [
       "                                    Titre  \\\n",
       "0          Its Only Art If Its Well Hung!   \n",
       "1                Dr. Seuss: American Icon   \n",
       "2                Dr. Seuss: American Icon   \n",
       "10  Wonderful Worship in Smaller Churches   \n",
       "11  Wonderful Worship in Smaller Churches   \n",
       "\n",
       "                                          Description           Auteurs  \\\n",
       "0                                                 NaN  ['Julie Strain']   \n",
       "1   Philip Nel takes a fascinating look into the k...    ['Philip Nel']   \n",
       "2   Philip Nel takes a fascinating look into the k...    ['Philip Nel']   \n",
       "10  This resource includes twelve principles in un...  ['David R. Ray']   \n",
       "11  This resource includes twelve principles in un...  ['David R. Ray']   \n",
       "\n",
       "                                                Image  \\\n",
       "0   http://books.google.com/books/content?id=DykPA...   \n",
       "1   http://books.google.com/books/content?id=IjvHQ...   \n",
       "2   http://books.google.com/books/content?id=IjvHQ...   \n",
       "10  http://books.google.com/books/content?id=2tsDA...   \n",
       "11  http://books.google.com/books/content?id=2tsDA...   \n",
       "\n",
       "                                          Lien Google    Editeur  \\\n",
       "0   http://books.google.nl/books?id=DykPAAAACAAJ&d...        NaN   \n",
       "1   http://books.google.nl/books?id=IjvHQsCn_pgC&p...  A&C Black   \n",
       "2   http://books.google.nl/books?id=IjvHQsCn_pgC&p...  A&C Black   \n",
       "10  http://books.google.nl/books?id=2tsDAAAACAAJ&d...        NaN   \n",
       "11  http://books.google.nl/books?id=2tsDAAAACAAJ&d...        NaN   \n",
       "\n",
       "   Date publication                                           infoLink  \\\n",
       "0              1996  http://books.google.nl/books?id=DykPAAAACAAJ&d...   \n",
       "1        01/01/2005  http://books.google.nl/books?id=IjvHQsCn_pgC&d...   \n",
       "2        01/01/2005  http://books.google.nl/books?id=IjvHQsCn_pgC&d...   \n",
       "10             2000  http://books.google.nl/books?id=2tsDAAAACAAJ&d...   \n",
       "11             2000  http://books.google.nl/books?id=2tsDAAAACAAJ&d...   \n",
       "\n",
       "                            Genre  Nb scores          Id  Prix  \\\n",
       "0     ['Comics & Graphic Novels']        NaN  1882931173   NaN   \n",
       "1   ['Biography & Autobiography']        NaN  0826414346   NaN   \n",
       "2   ['Biography & Autobiography']        NaN  0826414346   NaN   \n",
       "10                   ['Religion']        NaN  0829814000  19.4   \n",
       "11                   ['Religion']        NaN  0829814000  19.4   \n",
       "\n",
       "           User_id            Nom lecteur revue/utilité  revue/score  \\\n",
       "0    AVCGYZL8FQQTD  Jim of Oz \"jim-of-oz\"           7/7          4.0   \n",
       "1   A30TK6U7DNS82R          Kevin Killian         10/10          5.0   \n",
       "2   A3UH4UZ4RSVO82           John Granger         10/11          5.0   \n",
       "10   AZ0IOBU20TBOP     Rev. Pamela Tinnin          8/10          5.0   \n",
       "11  A373VVEU6Z9M0N   Dr. Terry W. Dorsett           1/1          5.0   \n",
       "\n",
       "    revue/heure                                     revue/résumé  \\\n",
       "0     940636800           Nice collection of Julie Strain images   \n",
       "1    1095724800                                Really Enjoyed It   \n",
       "2    1078790400  Essential for every personal and Public Library   \n",
       "10    991440000    Outstanding Resource for Small Church Pastors   \n",
       "11   1291766400        Small Churches CAN Have Wonderful Worship   \n",
       "\n",
       "                                          revue/texte Sentiment  \n",
       "0   This is only for Julie Strain fans. It's a col...   Positif  \n",
       "1   I don't care much for Dr. Seuss but after read...   Positif  \n",
       "2   If people become the books they read and if \"t...   Positif  \n",
       "10  I just finished the book, &quot;Wonderful Wors...   Positif  \n",
       "11  Many small churches feel like they can not hav...   Positif  "
      ]
     },
     "execution_count": 18,
     "metadata": {},
     "output_type": "execute_result"
    }
   ],
   "source": [
    "data_fusion.head()"
   ]
  },
  {
   "cell_type": "code",
   "execution_count": null,
   "metadata": {},
   "outputs": [],
   "source": [
    "# sauvegarder le fichier\n",
    "data_fusion.to_csv('data/data_fusion_sentiment.csv', index=False, encoding='utf-8')"
   ]
  }
 ],
 "metadata": {
  "kernelspec": {
   "display_name": "Python 3",
   "language": "python",
   "name": "python3"
  },
  "language_info": {
   "codemirror_mode": {
    "name": "ipython",
    "version": 3
   },
   "file_extension": ".py",
   "mimetype": "text/x-python",
   "name": "python",
   "nbconvert_exporter": "python",
   "pygments_lexer": "ipython3",
   "version": "3.11.9"
  }
 },
 "nbformat": 4,
 "nbformat_minor": 2
}
