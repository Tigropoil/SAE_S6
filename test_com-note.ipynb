{
 "cells": [
  {
   "cell_type": "code",
   "execution_count": null,
   "metadata": {},
   "outputs": [],
   "source": [
    "from sklearn.preprocessing import OneHotEncoder, RobustScaler\n",
    "from sklearn.feature_extraction.text import TfidfVectorizer\n",
    "from sklearn.compose import ColumnTransformer\n",
    "from sklearn.pipeline import Pipeline\n",
    "from scipy.sparse import hstack\n",
    "import pandas as pd\n",
    "import pickle\n",
    "\n",
    "# Ouvre le modele\n",
    "with open(\"model.pkl\", \"rb\") as model_file:\n",
    "    model = pickle.load(model_file)\n",
    "\n",
    "# Exemple de données de test\n",
    "data_test = pd.DataFrame({\n",
    "    'Auteurs': ['Auteur1'],\n",
    "    'Editeur': ['Editeur1'],\n",
    "    'Genre': ['Genre1'],\n",
    "    'Nom lecteur': ['Lecteur1'],\n",
    "    'revue/utilité': ['Utile'],\n",
    "    'Nb scores': [5],\n",
    "    'Prix': [20.0],\n",
    "    'revue/heure': [1.5],\n",
    "    'Titre': ['Titre du livre'],\n",
    "    'revue/résumé': ['Résumé du livre'],\n",
    "    'revue/texte': ['Texte complet de la revue']\n",
    "})\n",
    "\n",
    "# Identifier les types de colonnes\n",
    "colonnes_categoriques = ['Auteurs', 'Editeur', 'Genre', 'Nom lecteur', 'revue/utilité']\n",
    "colonnes_numeriques = ['Nb scores', 'Prix', 'revue/heure']\n",
    "colonnes_textuelles = ['Titre', 'revue/résumé', 'revue/texte']\n",
    "\n",
    "# Ouvre le preprocesseur\n",
    "with open(\"preprocessor.pkl\", \"rb\") as preprocessor_file:\n",
    "    preprocessor = pickle.load(preprocessor_file)\n",
    "\n",
    "# Appliquer fit_transform sur X_train, mais SEULEMENT transform sur X_test\n",
    "data_test_cat_num = preprocessor.transform(data_test)\n",
    "\n",
    "# Prediction\n",
    "text_pipelines = {col: TfidfVectorizer(max_features=500) for col in colonnes_textuelles}\n",
    "data_test_text = [text_pipelines[col].fit_transform(data_test[col].fillna(\"\").astype(str)) for col in colonnes_textuelles]\n",
    "\n",
    "test = hstack([data_test_cat_num] + data_test_text)\n",
    "\n",
    "y_pred = model.predict(test)\n",
    "print(y_pred)\n"
   ]
  }
 ],
 "metadata": {
  "kernelspec": {
   "display_name": "Python 3",
   "language": "python",
   "name": "python3"
  },
  "language_info": {
   "name": "python",
   "version": "3.10.8"
  }
 },
 "nbformat": 4,
 "nbformat_minor": 2
}
