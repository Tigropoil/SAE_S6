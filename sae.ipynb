{
 "cells": [
  {
   "cell_type": "code",
   "execution_count": 1,
   "metadata": {},
   "outputs": [],
   "source": [
    "import pandas as pd"
   ]
  },
  {
   "cell_type": "code",
   "execution_count": 2,
   "metadata": {},
   "outputs": [],
   "source": [
    "data_rating_url = 'data/Books_rating_t.csv'\n",
    "\n",
    "data_rating = pd.read_csv(data_rating_url)"
   ]
  },
  {
   "cell_type": "code",
   "execution_count": 3,
   "metadata": {},
   "outputs": [
    {
     "name": "stdout",
     "output_type": "stream",
     "text": [
      "           Id                           Titre  Prix         User_id   \n",
      "0  1882931173  Its Only Art If Its Well Hung!   NaN   AVCGYZL8FQQTD  \\\n",
      "1  0826414346        Dr. Seuss: American Icon   NaN  A30TK6U7DNS82R   \n",
      "2  0826414346        Dr. Seuss: American Icon   NaN  A3UH4UZ4RSVO82   \n",
      "3  0826414346        Dr. Seuss: American Icon   NaN  A2MVUWT453QH61   \n",
      "4  0826414346        Dr. Seuss: American Icon   NaN  A22X4XUPKF66MR   \n",
      "\n",
      "                          Nom lecteur revue/utilité  revue/score  revue/heure   \n",
      "0               Jim of Oz \"jim-of-oz\"           7/7          4.0    940636800  \\\n",
      "1                       Kevin Killian         10/10          5.0   1095724800   \n",
      "2                        John Granger         10/11          5.0   1078790400   \n",
      "3  Roy E. Perry \"amateur philosopher\"           7/7          4.0   1090713600   \n",
      "4     D. H. Richards \"ninthwavestore\"           3/3          4.0   1107993600   \n",
      "\n",
      "                                      revue/résumé   \n",
      "0           Nice collection of Julie Strain images  \\\n",
      "1                                Really Enjoyed It   \n",
      "2  Essential for every personal and Public Library   \n",
      "3  Phlip Nel gives silly Seuss a serious treatment   \n",
      "4                           Good academic overview   \n",
      "\n",
      "                                         revue/texte  \n",
      "0  This is only for Julie Strain fans. It's a col...  \n",
      "1  I don't care much for Dr. Seuss but after read...  \n",
      "2  If people become the books they read and if \"t...  \n",
      "3  Theodore Seuss Geisel (1904-1991), aka &quot;D...  \n",
      "4  Philip Nel - Dr. Seuss: American IconThis is b...  \n",
      "Index(['Id', 'Titre', 'Prix', 'User_id', 'Nom lecteur', 'revue/utilité',\n",
      "       'revue/score', 'revue/heure', 'revue/résumé', 'revue/texte'],\n",
      "      dtype='object')\n"
     ]
    }
   ],
   "source": [
    "print(data_rating.head())\n",
    "\n",
    "print(data_rating.columns)\n",
    "\n"
   ]
  },
  {
   "cell_type": "code",
   "execution_count": 4,
   "metadata": {},
   "outputs": [
    {
     "name": "stdout",
     "output_type": "stream",
     "text": [
      "212403\n",
      "3000000\n"
     ]
    }
   ],
   "source": [
    "# afficher le nombre de valeurs unique dans la colonne 'Titre'\n",
    "print(data_rating['Titre'].nunique())\n",
    "\n",
    "# afficher le nombre de lignes\n",
    "print(data_rating.shape[0])"
   ]
  },
  {
   "cell_type": "code",
   "execution_count": 5,
   "metadata": {},
   "outputs": [],
   "source": [
    "data_book_url = 'data/books_data_t.csv'\n",
    "data_book = pd.read_csv(data_book_url)"
   ]
  },
  {
   "cell_type": "code",
   "execution_count": 6,
   "metadata": {},
   "outputs": [
    {
     "data": {
      "text/plain": [
       "Index(['Titre', 'Description', 'Auteurs', 'Image', 'Lien Google', 'Editeur',\n",
       "       'Date publication', 'infoLink', 'Genre', 'Nb scores'],\n",
       "      dtype='object')"
      ]
     },
     "execution_count": 6,
     "metadata": {},
     "output_type": "execute_result"
    }
   ],
   "source": [
    "data_book.columns"
   ]
  },
  {
   "cell_type": "code",
   "execution_count": 7,
   "metadata": {},
   "outputs": [
    {
     "name": "stdout",
     "output_type": "stream",
     "text": [
      "Nombre de titres communs : 212399\n"
     ]
    }
   ],
   "source": [
    "# Identifiez les titres communs dans les deux datasets\n",
    "titres_communs = set(data_book['Titre']).intersection(set(data_rating['Titre']))\n",
    "print(f\"Nombre de titres communs : {len(titres_communs)}\")"
   ]
  },
  {
   "cell_type": "markdown",
   "metadata": {},
   "source": [
    "Fusion"
   ]
  },
  {
   "cell_type": "code",
   "execution_count": 8,
   "metadata": {},
   "outputs": [],
   "source": [
    "# Fusion des datasets\n",
    "data_fusion = pd.merge(data_book, data_rating, on='Titre', how='inner')"
   ]
  },
  {
   "cell_type": "code",
   "execution_count": 9,
   "metadata": {},
   "outputs": [
    {
     "name": "stdout",
     "output_type": "stream",
     "text": [
      "Le fichier data_fusion.csv a été créé avec succès.\n"
     ]
    }
   ],
   "source": [
    "# Sauvegarder le fichier fusionné\n",
    "data_fusion.to_csv('data_fusion.csv', index=False, encoding='utf-8')\n",
    "print(\"Le fichier data_fusion.csv a été créé avec succès.\")"
   ]
  },
  {
   "cell_type": "code",
   "execution_count": 10,
   "metadata": {},
   "outputs": [
    {
     "name": "stdout",
     "output_type": "stream",
     "text": [
      "                            Titre   \n",
      "0  Its Only Art If Its Well Hung!  \\\n",
      "1        Dr. Seuss: American Icon   \n",
      "2        Dr. Seuss: American Icon   \n",
      "3        Dr. Seuss: American Icon   \n",
      "4        Dr. Seuss: American Icon   \n",
      "\n",
      "                                         Description           Auteurs   \n",
      "0                                                NaN  ['Julie Strain']  \\\n",
      "1  Philip Nel takes a fascinating look into the k...    ['Philip Nel']   \n",
      "2  Philip Nel takes a fascinating look into the k...    ['Philip Nel']   \n",
      "3  Philip Nel takes a fascinating look into the k...    ['Philip Nel']   \n",
      "4  Philip Nel takes a fascinating look into the k...    ['Philip Nel']   \n",
      "\n",
      "                                               Image   \n",
      "0  http://books.google.com/books/content?id=DykPA...  \\\n",
      "1  http://books.google.com/books/content?id=IjvHQ...   \n",
      "2  http://books.google.com/books/content?id=IjvHQ...   \n",
      "3  http://books.google.com/books/content?id=IjvHQ...   \n",
      "4  http://books.google.com/books/content?id=IjvHQ...   \n",
      "\n",
      "                                         Lien Google    Editeur   \n",
      "0  http://books.google.nl/books?id=DykPAAAACAAJ&d...        NaN  \\\n",
      "1  http://books.google.nl/books?id=IjvHQsCn_pgC&p...  A&C Black   \n",
      "2  http://books.google.nl/books?id=IjvHQsCn_pgC&p...  A&C Black   \n",
      "3  http://books.google.nl/books?id=IjvHQsCn_pgC&p...  A&C Black   \n",
      "4  http://books.google.nl/books?id=IjvHQsCn_pgC&p...  A&C Black   \n",
      "\n",
      "  Date publication                                           infoLink   \n",
      "0             1996  http://books.google.nl/books?id=DykPAAAACAAJ&d...  \\\n",
      "1       01/01/2005  http://books.google.nl/books?id=IjvHQsCn_pgC&d...   \n",
      "2       01/01/2005  http://books.google.nl/books?id=IjvHQsCn_pgC&d...   \n",
      "3       01/01/2005  http://books.google.nl/books?id=IjvHQsCn_pgC&d...   \n",
      "4       01/01/2005  http://books.google.nl/books?id=IjvHQsCn_pgC&d...   \n",
      "\n",
      "                           Genre  Nb scores          Id  Prix         User_id   \n",
      "0    ['Comics & Graphic Novels']        NaN  1882931173   NaN   AVCGYZL8FQQTD  \\\n",
      "1  ['Biography & Autobiography']        NaN  0826414346   NaN  A30TK6U7DNS82R   \n",
      "2  ['Biography & Autobiography']        NaN  0826414346   NaN  A3UH4UZ4RSVO82   \n",
      "3  ['Biography & Autobiography']        NaN  0826414346   NaN  A2MVUWT453QH61   \n",
      "4  ['Biography & Autobiography']        NaN  0826414346   NaN  A22X4XUPKF66MR   \n",
      "\n",
      "                          Nom lecteur revue/utilité  revue/score  revue/heure   \n",
      "0               Jim of Oz \"jim-of-oz\"           7/7          4.0    940636800  \\\n",
      "1                       Kevin Killian         10/10          5.0   1095724800   \n",
      "2                        John Granger         10/11          5.0   1078790400   \n",
      "3  Roy E. Perry \"amateur philosopher\"           7/7          4.0   1090713600   \n",
      "4     D. H. Richards \"ninthwavestore\"           3/3          4.0   1107993600   \n",
      "\n",
      "                                      revue/résumé   \n",
      "0           Nice collection of Julie Strain images  \\\n",
      "1                                Really Enjoyed It   \n",
      "2  Essential for every personal and Public Library   \n",
      "3  Phlip Nel gives silly Seuss a serious treatment   \n",
      "4                           Good academic overview   \n",
      "\n",
      "                                         revue/texte  \n",
      "0  This is only for Julie Strain fans. It's a col...  \n",
      "1  I don't care much for Dr. Seuss but after read...  \n",
      "2  If people become the books they read and if \"t...  \n",
      "3  Theodore Seuss Geisel (1904-1991), aka &quot;D...  \n",
      "4  Philip Nel - Dr. Seuss: American IconThis is b...  \n"
     ]
    }
   ],
   "source": [
    "print(data_fusion.head())"
   ]
  },
  {
   "cell_type": "code",
   "execution_count": 11,
   "metadata": {},
   "outputs": [
    {
     "name": "stdout",
     "output_type": "stream",
     "text": [
      "Index(['Titre', 'Description', 'Auteurs', 'Image', 'Lien Google', 'Editeur',\n",
      "       'Date publication', 'infoLink', 'Genre', 'Nb scores', 'Id', 'Prix',\n",
      "       'User_id', 'Nom lecteur', 'revue/utilité', 'revue/score', 'revue/heure',\n",
      "       'revue/résumé', 'revue/texte'],\n",
      "      dtype='object')\n"
     ]
    }
   ],
   "source": [
    "print(data_fusion.columns)"
   ]
  },
  {
   "cell_type": "code",
   "execution_count": 12,
   "metadata": {},
   "outputs": [
    {
     "name": "stdout",
     "output_type": "stream",
     "text": [
      "9\n"
     ]
    }
   ],
   "source": [
    "# Afficher le nombre de rows où le titre = Dr. Seuss: American Icon\n",
    "print(data_fusion[data_fusion['Titre'] == 'Dr. Seuss: American Icon'].shape[0])"
   ]
  },
  {
   "cell_type": "code",
   "execution_count": 13,
   "metadata": {},
   "outputs": [],
   "source": [
    "# Ne garder que deux ligne pour chaque titre\n",
    "data_fusion = data_fusion.groupby('Titre').head(2)"
   ]
  },
  {
   "cell_type": "code",
   "execution_count": 14,
   "metadata": {},
   "outputs": [
    {
     "name": "stdout",
     "output_type": "stream",
     "text": [
      "2\n"
     ]
    }
   ],
   "source": [
    "print(data_fusion[data_fusion['Titre'] == 'Dr. Seuss: American Icon'].shape[0])"
   ]
  },
  {
   "cell_type": "code",
   "execution_count": 15,
   "metadata": {},
   "outputs": [],
   "source": [
    "data_fusion.to_csv('data_fusion_little.csv', index=False, encoding='utf-8')"
   ]
  }
 ],
 "metadata": {
  "kernelspec": {
   "display_name": "Python 3",
   "language": "python",
   "name": "python3"
  },
  "language_info": {
   "codemirror_mode": {
    "name": "ipython",
    "version": 3
   },
   "file_extension": ".py",
   "mimetype": "text/x-python",
   "name": "python",
   "nbconvert_exporter": "python",
   "pygments_lexer": "ipython3",
   "version": "3.10.8"
  }
 },
 "nbformat": 4,
 "nbformat_minor": 2
}
